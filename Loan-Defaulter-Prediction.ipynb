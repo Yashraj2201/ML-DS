{
 "cells": [
  {
   "cell_type": "code",
   "execution_count": 4,
   "metadata": {},
   "outputs": [],
   "source": [
    "import pandas as pd\n",
    "from sklearn.linear_model import LogisticRegression\n",
    "from sklearn.preprocessing import StandardScaler"
   ]
  },
  {
   "cell_type": "code",
   "execution_count": 5,
   "metadata": {},
   "outputs": [],
   "source": [
    "def train_loan_default_model(data):\n",
    "    # Select relevant features and target variable\n",
    "    features = ['age', 'income', 'years', 'amount', 'interest']\n",
    "    target = 'default'\n",
    "\n",
    "    # Create feature matrix (X) and target variable (y)\n",
    "    X = data[features]\n",
    "    y = data[target]\n",
    "\n",
    "    # Standardize the features\n",
    "    scaler = StandardScaler()\n",
    "    X_scaled = scaler.fit_transform(X)\n",
    "\n",
    "    # Create a logistic regression model\n",
    "    model = LogisticRegression(random_state=42)\n",
    "\n",
    "    # Train the model on the entire dataset\n",
    "    model.fit(X_scaled, y)\n",
    "\n",
    "    return model, scaler"
   ]
  },
  {
   "cell_type": "code",
   "execution_count": 6,
   "metadata": {},
   "outputs": [],
   "source": [
    "def predict_loan_default(model, scaler):\n",
    "    # Get user input for prediction\n",
    "    age = float(input(\"Enter age: \"))\n",
    "    income = float(input(\"Enter income: \"))\n",
    "    years = float(input(\"Enter years: \"))\n",
    "    amount = float(input(\"Enter loan amount: \"))\n",
    "    interest = float(input(\"Enter interest rate: \"))\n",
    "\n",
    "    # Create a DataFrame with user input\n",
    "    user_data = pd.DataFrame([[age, income, years, amount, interest]], columns=['age', 'income', 'years', 'amount', 'interest'])\n",
    "    user_data_scaled = scaler.transform(user_data)\n",
    "    \n",
    "    # Make predictions\n",
    "    prediction = model.predict(user_data_scaled)[0]\n",
    "\n",
    "    return prediction"
   ]
  },
  {
   "cell_type": "code",
   "execution_count": 7,
   "metadata": {},
   "outputs": [
    {
     "ename": "ValueError",
     "evalue": "could not convert string to float: ''",
     "output_type": "error",
     "traceback": [
      "\u001b[1;31m---------------------------------------------------------------------------\u001b[0m",
      "\u001b[1;31mValueError\u001b[0m                                Traceback (most recent call last)",
      "\u001b[1;32mUntitled-1.ipynb Cell 4\u001b[0m line \u001b[0;36m8\n\u001b[0;32m      <a href='vscode-notebook-cell:Untitled-1.ipynb?jupyter-notebook#W4sdW50aXRsZWQ%3D?line=4'>5</a>\u001b[0m trained_model, trained_scaler \u001b[39m=\u001b[39m train_loan_default_model(df)\n\u001b[0;32m      <a href='vscode-notebook-cell:Untitled-1.ipynb?jupyter-notebook#W4sdW50aXRsZWQ%3D?line=6'>7</a>\u001b[0m \u001b[39m# Get prediction using real-time user input\u001b[39;00m\n\u001b[1;32m----> <a href='vscode-notebook-cell:Untitled-1.ipynb?jupyter-notebook#W4sdW50aXRsZWQ%3D?line=7'>8</a>\u001b[0m result \u001b[39m=\u001b[39m predict_loan_default(trained_model, trained_scaler)\n\u001b[0;32m     <a href='vscode-notebook-cell:Untitled-1.ipynb?jupyter-notebook#W4sdW50aXRsZWQ%3D?line=9'>10</a>\u001b[0m \u001b[39m# Display the result\u001b[39;00m\n\u001b[0;32m     <a href='vscode-notebook-cell:Untitled-1.ipynb?jupyter-notebook#W4sdW50aXRsZWQ%3D?line=10'>11</a>\u001b[0m \u001b[39mprint\u001b[39m(\u001b[39m\"\u001b[39m\u001b[39mPrediction:\u001b[39m\u001b[39m\"\u001b[39m, result)\n",
      "\u001b[1;32mUntitled-1.ipynb Cell 4\u001b[0m line \u001b[0;36m3\n\u001b[0;32m      <a href='vscode-notebook-cell:Untitled-1.ipynb?jupyter-notebook#W4sdW50aXRsZWQ%3D?line=0'>1</a>\u001b[0m \u001b[39mdef\u001b[39;00m \u001b[39mpredict_loan_default\u001b[39m(model, scaler):\n\u001b[0;32m      <a href='vscode-notebook-cell:Untitled-1.ipynb?jupyter-notebook#W4sdW50aXRsZWQ%3D?line=1'>2</a>\u001b[0m     \u001b[39m# Get user input for prediction\u001b[39;00m\n\u001b[1;32m----> <a href='vscode-notebook-cell:Untitled-1.ipynb?jupyter-notebook#W4sdW50aXRsZWQ%3D?line=2'>3</a>\u001b[0m     age \u001b[39m=\u001b[39m \u001b[39mfloat\u001b[39;49m(\u001b[39minput\u001b[39;49m(\u001b[39m\"\u001b[39;49m\u001b[39mEnter age: \u001b[39;49m\u001b[39m\"\u001b[39;49m))\n\u001b[0;32m      <a href='vscode-notebook-cell:Untitled-1.ipynb?jupyter-notebook#W4sdW50aXRsZWQ%3D?line=3'>4</a>\u001b[0m     income \u001b[39m=\u001b[39m \u001b[39mfloat\u001b[39m(\u001b[39minput\u001b[39m(\u001b[39m\"\u001b[39m\u001b[39mEnter income: \u001b[39m\u001b[39m\"\u001b[39m))\n\u001b[0;32m      <a href='vscode-notebook-cell:Untitled-1.ipynb?jupyter-notebook#W4sdW50aXRsZWQ%3D?line=4'>5</a>\u001b[0m     years \u001b[39m=\u001b[39m \u001b[39mfloat\u001b[39m(\u001b[39minput\u001b[39m(\u001b[39m\"\u001b[39m\u001b[39mEnter years: \u001b[39m\u001b[39m\"\u001b[39m))\n",
      "\u001b[1;31mValueError\u001b[0m: could not convert string to float: ''"
     ]
    }
   ],
   "source": [
    "# Load your CSV data into a Pandas DataFrame\n",
    "df = pd.read_csv(r'C:\\Users\\yasho\\Downloads\\loan_data_nov2023.csv')\n",
    "\n",
    "# Train the model\n",
    "trained_model, trained_scaler = train_loan_default_model(df)\n",
    "\n",
    "# Get prediction using real-time user input\n",
    "result = predict_loan_default(trained_model, trained_scaler)\n",
    "\n",
    "# Display the result\n",
    "print(\"Prediction:\", result)"
   ]
  }
 ],
 "metadata": {
  "kernelspec": {
   "display_name": "Python 3",
   "language": "python",
   "name": "python3"
  },
  "language_info": {
   "codemirror_mode": {
    "name": "ipython",
    "version": 3
   },
   "file_extension": ".py",
   "mimetype": "text/x-python",
   "name": "python",
   "nbconvert_exporter": "python",
   "pygments_lexer": "ipython3",
   "version": "3.11.2"
  },
  "orig_nbformat": 4
 },
 "nbformat": 4,
 "nbformat_minor": 2
}
